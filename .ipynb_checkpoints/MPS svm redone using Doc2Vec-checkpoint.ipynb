{
 "cells": [
  {
   "cell_type": "code",
   "execution_count": 1,
   "metadata": {
    "collapsed": false
   },
   "outputs": [],
   "source": [
    "from __future__ import print_function\n",
    "from collections import defaultdict,namedtuple\n",
    "from scipy import stats\n",
    "\n",
    "import numpy as np\n",
    "import matplotlib.pyplot as plt\n",
    "import os,math,random,time,csv,numpy,re,string"
   ]
  },
  {
   "cell_type": "markdown",
   "metadata": {},
   "source": [
    "### Read the cleaned raw data\n",
    "For detail of how data is made, look at `prepare_clean_training_for_Doc2Vec.py`"
   ]
  },
  {
   "cell_type": "code",
   "execution_count": 2,
   "metadata": {
    "collapsed": false
   },
   "outputs": [],
   "source": [
    "with open(\"product_data_new_titleAndLongShortDescription_clean.csv\"\n",
    "          , \"rb\") as file_in:\n",
    "    reader = csv.reader(file_in)\n",
    "    raw = [line for line in reader]"
   ]
  },
  {
   "cell_type": "markdown",
   "metadata": {},
   "source": [
    "### Check the length of each field"
   ]
  },
  {
   "cell_type": "code",
   "execution_count": 3,
   "metadata": {
    "collapsed": false
   },
   "outputs": [],
   "source": [
    "# title_len, long_len, short_len = [], [], []\n",
    "# for item in raw:\n",
    "#     title_len.append(len(item[1].split()))\n",
    "#     long_len.append(len(item[2].split()))\n",
    "#     short_len.append(len(item[3].split()))"
   ]
  },
  {
   "cell_type": "code",
   "execution_count": 5,
   "metadata": {
    "collapsed": false
   },
   "outputs": [],
   "source": [
    "# # Show some descriptive statistics\n",
    "# print(stats.describe(title_len))\n",
    "# print()\n",
    "# print(stats.describe(long_len))\n",
    "# print()\n",
    "# print(stats.describe(short_len))\n",
    "# print()"
   ]
  },
  {
   "cell_type": "code",
   "execution_count": 6,
   "metadata": {
    "collapsed": false
   },
   "outputs": [
    {
     "data": {
      "image/png": "[encoded data removed]",
      "text/plain": [
       "<matplotlib.figure.Figure at 0x7fbf3445bd90>"
      ]
     },
     "metadata": {},
     "output_type": "display_data"
    }
   ],
   "source": [
    "# # We are not going to use the short_len but the long_len.\n",
    "# # However, it's very is very skewed\n",
    "# plt.hist(long_len)\n",
    "# plt.show()"
   ]
  },
  {
   "cell_type": "markdown",
   "metadata": {},
   "source": [
    "In fact, some product long description includes sort of context stories to glorify the product. They might work for customers but will mislead our classifier. TO avoid this, we decides to cut-off the description after certain length."
   ]
  },
  {
   "cell_type": "markdown",
   "metadata": {},
   "source": [
    "### Training using the Doc2Vec provided by genism "
   ]
  },
  {
   "cell_type": "code",
   "execution_count": 7,
   "metadata": {
    "collapsed": true
   },
   "outputs": [],
   "source": [
    "import gensim\n",
    "from gensim.models.doc2vec import TaggedDocument\n",
    "from gensim.models.doc2vec import LabeledSentence\n",
    "from gensim.models import Doc2Vec\n",
    "import gensim.models.doc2vec\n",
    "import multiprocessing"
   ]
  },
  {
   "cell_type": "code",
   "execution_count": 8,
   "metadata": {
    "collapsed": false
   },
   "outputs": [],
   "source": [
    "# # Build the sentences for Doc2Vec training\n",
    "# cut_off_length = 100\n",
    "\n",
    "# sentences = []\n",
    "# for item in raw:\n",
    "#     tokens = item[1].split()\n",
    "#     # A special character indicating the seperation between title and main text\n",
    "#     tokens.append(\"#\")\n",
    "#     # Cut off the long description if neccessary\n",
    "#     tokens.extend(item[2].split()[:100])\n",
    "#     # Use id as label, not meaning at all in this application, just required by Doc2Vec\n",
    "#     label = [item[0]]\n",
    "    \n",
    "#     # Convert into Doc2Vec format\n",
    "#     sent = LabeledSentence(words = tokens, tags = label)\n",
    "#     sentences.append(sent)\n",
    "\n",
    "# # Make a copy of sentences\n",
    "# # use the copy in actual training as it will be shuffled \n",
    "# sents = sentences[:]\n",
    "\n",
    "# # Make sure multiple cores can be used\n",
    "# cores = multiprocessing.cpu_count()\n",
    "# assert gensim.models.doc2vec.FAST_VERSION > -1, \"this will be painfully slow otherwise\"\n",
    "\n",
    "# # Use parameters copied from RaRe-Technologies/doc2vec-IMDB.ipynb\n",
    "# model = Doc2Vec(dm=1, dm_concat=1, size=100, window=5,\n",
    "#                 negative=5, hs=0, min_count=2, workers=cores)\n",
    "# model.build_vocab(sents) # use the copy"
   ]
  },
  {
   "cell_type": "markdown",
   "metadata": {
    "collapsed": true
   },
   "source": [
    "### Actual training Doc2Vec"
   ]
  },
  {
   "cell_type": "code",
   "execution_count": 9,
   "metadata": {
    "collapsed": false
   },
   "outputs": [
    {
     "name": "stdout",
     "output_type": "stream",
     "text": [
      "Epoch 0 takes 290.64s\n",
      "Epoch 1 takes 272.59s\n",
      "Epoch 2 takes 268.36s\n",
      "Epoch 3 takes 263.01s\n",
      "Epoch 4 takes 262.44s\n",
      "Epoch 5 takes 259.01s\n",
      "Epoch 6 takes 259.87s\n",
      "Epoch 7 takes 258.51s\n",
      "Epoch 8 takes 255.75s\n",
      "Epoch 9 takes 256.82s\n"
     ]
    }
   ],
   "source": [
    "# # Training\n",
    "# num_pass = 10\n",
    "# for epoch in range(num_pass):\n",
    "#     np.random.shuffle(sents) # randomized to have better representation\n",
    "#     ts = time.time()\n",
    "#     model.train(sents)\n",
    "#     te = time.time()\n",
    "#     print(\"Epoch {} takes {}s\".format(epoch, round(te-ts,2)))\n",
    "\n",
    "# # Epoch 0-8 takes around 250s each but Epoch takes 3258s!!! Why?"
   ]
  },
  {
   "cell_type": "code",
   "execution_count": 11,
   "metadata": {
    "collapsed": false
   },
   "outputs": [],
   "source": [
    "# When done, save the model\n",
    "# store the model to mmap-able files\n",
    "# model.save('product_data_new1.doc2vec')"
   ]
  },
  {
   "cell_type": "markdown",
   "metadata": {
    "collapsed": false
   },
   "source": [
    "### Use the Doc2Vec to build an SVM model"
   ]
  },
  {
   "cell_type": "code",
   "execution_count": 4,
   "metadata": {
    "collapsed": false
   },
   "outputs": [],
   "source": [
    "# Load the model\n",
    "model = Doc2Vec.load('product_data_new1.doc2vec')\n",
    "\n",
    "# Load the data\n",
    "import helper, time, csv, json, math, random\n",
    "path_data = '/home/jl/Projects/mps_project/training_data/new_cates.csv'\n",
    "data = helper.load_csv(path_data, has_header = True)"
   ]
  },
  {
   "cell_type": "code",
   "execution_count": 14,
   "metadata": {
    "collapsed": false
   },
   "outputs": [],
   "source": [
    "# Clean the data use the same standard as in building Doc2Vec\n",
    "for d in data:\n",
    "    for i in range(2):\n",
    "        d[i] = helper.clean_forDoc2Vec(d[i])\n",
    "\n",
    "# Use the Doc2Vec model to infer each X\n",
    "# using parameters copied from RaRe-Technologies/doc2vec-IMDB.ipynb\n",
    "infer_steps = 3\n",
    "infer_alpha = 0.1\n",
    "data_v = []\n",
    "for d in data:\n",
    "    x = d[0].split()\n",
    "    x.append(\"#\")\n",
    "    x.extend(d[1].split())\n",
    "    x = model.infer_vector(x, steps=infer_steps, alpha=infer_alpha)\n",
    "    y_main = d[3]\n",
    "    y_sub = d[4]\n",
    "    data_v.append([x, y_main, y_sub])"
   ]
  },
  {
   "cell_type": "markdown",
   "metadata": {},
   "source": [
    "Now data_v has x, y_main and y_sub, let's build the model! "
   ]
  },
  {
   "cell_type": "code",
   "execution_count": 15,
   "metadata": {
    "collapsed": false
   },
   "outputs": [],
   "source": [
    "# Train test split\n",
    "train_portion = 0.7\n",
    "random.seed(2016)\n",
    "train_ids = set(random.sample([i for i in range(len(data_v))],\\\n",
    "                int(train_portion*len(data_v)))) # Use a set\n",
    "train_X, train_Y, test_X, test_Y = [], [], [], []\n",
    "for i, d in enumerate(data_v):\n",
    "    if i in train_ids:\n",
    "        train_x = d[0]\n",
    "        train_y = d[1]\n",
    "        train_X.append(train_x)\n",
    "        train_Y.append(train_y)\n",
    "    else:\n",
    "        test_x = d[0]\n",
    "        test_y = d[1]\n",
    "        test_X.append(test_x)\n",
    "        test_Y.append(test_y)"
   ]
  },
  {
   "cell_type": "code",
   "execution_count": null,
   "metadata": {
    "collapsed": false
   },
   "outputs": [],
   "source": [
    "# Training\n",
    "from sklearn.svm import LinearSVC\n",
    "ts = time.time()\n",
    "clf = LinearSVC()\n",
    "clf.fit(train_X, train_Y)\n",
    "t1 = time.time()\n",
    "print(\"Traning takes: {}s\".format(round(t1-ts, 2)))\n",
    "\n",
    "# Test\n",
    "from sklearn.metrics import classification_report\n",
    "Y_pred = clf.predict(test_X)\n",
    "t2 = time.time()\n",
    "print(\"Testing takes: {}s\".format(round(t2-t1, 2)))\n",
    "print(classification_report(test_Y, Y_pred))"
   ]
  }
 ],
 "metadata": {
  "anaconda-cloud": {},
  "kernelspec": {
   "display_name": "Python [conda root]",
   "language": "python",
   "name": "conda-root-py"
  },
  "language_info": {
   "codemirror_mode": {
    "name": "ipython",
    "version": 2
   },
   "file_extension": ".py",
   "mimetype": "text/x-python",
   "name": "python",
   "nbconvert_exporter": "python",
   "pygments_lexer": "ipython2",
   "version": "2.7.12"
  }
 },
 "nbformat": 4,
 "nbformat_minor": 1
}
